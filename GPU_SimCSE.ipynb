{
 "cells": [
  {
   "cell_type": "markdown",
   "metadata": {},
   "source": [
    "# Loading the models \n",
    "I used the provided libraries from https://github.com/princeton-nlp/SimCSE "
   ]
  },
  {
   "cell_type": "markdown",
   "metadata": {},
   "source": [
    "There are different models can be used for sentence embeddings with SimCSE such as \"bert-based-uncased\", \"Robertta-based\" or \"Roberta-larged\".\n",
    "Here, we chose the \"princeton-nlp/sup-simcse-roberta-large\""
   ]
  },
  {
   "cell_type": "code",
   "execution_count": null,
   "metadata": {},
   "outputs": [],
   "source": [
    "import numpy as np\n",
    "import csv\n",
    "import pandas as pd\n",
    "from simcse import SimCSE\n",
    "import torch\n",
    "from scipy.spatial.distance import cosine\n",
    "from transformers import AutoModel, AutoTokenizer\n",
    "\n",
    "device = \"cuda:0\" if torch.cuda.is_available() else \"cpu\"\n",
    "\n",
    "\n",
    "tokenizer = AutoTokenizer.from_pretrained(\"princeton-nlp/sup-simcse-roberta-large\")\n",
    "\n",
    "model = AutoModel.from_pretrained(\"princeton-nlp/sup-simcse-roberta-large\").to(device)\n",
    "\n",
    "print('Model is loaded')"
   ]
  },
  {
   "cell_type": "markdown",
   "metadata": {},
   "source": [
    "# READ the DATA"
   ]
  },
  {
   "cell_type": "code",
   "execution_count": null,
   "metadata": {},
   "outputs": [],
   "source": [
    "Test_data = pd.read_csv(\"/home/ubuntu/cluster/Test_CLEAN2.csv\", error_bad_lines=False, delimiter= '\\t')\n",
    "print('Data is loaded')"
   ]
  },
  {
   "cell_type": "code",
   "execution_count": null,
   "metadata": {},
   "outputs": [],
   "source": [
    "# Prepare the data. We onlye need to extrat the features for the conversations, so we drop the other columns!\n",
    "\n",
    "data = Test_data.drop(['user1_MSG'], axis=1)\n",
    "data = data.drop(['user2_MSG'], axis=1)\n",
    "data = data.drop(['User1_ID'], axis=1)\n",
    "data = data.drop(['User2_ID'], axis=1)\n",
    "\n",
    "\n",
    "\n",
    "main_msg = data['conversations']\n",
    "print('Data saving is ready')"
   ]
  },
  {
   "cell_type": "markdown",
   "metadata": {},
   "source": [
    "# compute and save the features to a file"
   ]
  },
  {
   "cell_type": "code",
   "execution_count": null,
   "metadata": {},
   "outputs": [],
   "source": [
    "with open('/home/ubuntu/cluster/Test_Embeddings_roberta-large.csv', 'w', newline='') as f:\n",
    "      \n",
    "\n",
    "#len(main_msg)\n",
    "\n",
    "\n",
    "\n",
    "    for i in range(len(main_msg)):\n",
    "        print(i)\n",
    "        inputs = tokenizer(main_msg[i], padding=True, truncation=True, return_tensors=\"pt\").to(device)\n",
    "\n",
    "    \n",
    "\n",
    "        with torch.no_grad():\n",
    "\n",
    "            embeddings = model(**inputs, output_hidden_states=True, return_dict=True).pooler_output\n",
    "            writer = csv.writer(f, delimiter=',')\n",
    "\n",
    "            writer.writerows(embeddings.cpu().numpy())\n",
    "\n",
    "f.close()\n",
    "\n",
    "#*********************\n",
    "\n",
    "#Merge the features with their labels\n",
    "\n",
    "features = pd.read_csv('/home/ubuntu/cluster/Test_Embeddings_roberta-large.csv', header=None,delimiter= ',')\n",
    "\n",
    "data.drop(\"conversations\", axis = 1, inplace = True)\n",
    "\n",
    "result_features= pd.concat([data,features], axis=1)\n",
    "\n",
    "\n",
    "\n",
    "        \n",
    "\n",
    "#save results in a file\n",
    "\n",
    "\n",
    "\n",
    "result_features.to_csv(\"/home/ubuntu/cluster/SIMCe_TEST_Embeddings_roberta-large.csv\")"
   ]
  }
 ],
 "metadata": {
  "kernelspec": {
   "display_name": "Python 3",
   "language": "python",
   "name": "python3"
  },
  "language_info": {
   "codemirror_mode": {
    "name": "ipython",
    "version": 3
   },
   "file_extension": ".py",
   "mimetype": "text/x-python",
   "name": "python",
   "nbconvert_exporter": "python",
   "pygments_lexer": "ipython3",
   "version": "3.8.5"
  }
 },
 "nbformat": 4,
 "nbformat_minor": 4
}
