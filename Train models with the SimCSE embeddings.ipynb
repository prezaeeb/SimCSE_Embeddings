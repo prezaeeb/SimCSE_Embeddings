{
 "cells": [
  {
   "cell_type": "code",
   "execution_count": null,
   "metadata": {},
   "outputs": [],
   "source": [
    "import pandas as pd\n",
    "import csv"
   ]
  },
  {
   "cell_type": "code",
   "execution_count": null,
   "metadata": {},
   "outputs": [],
   "source": [
    "train_features = pd.read_csv(\"Labeled_TRAIN_Bert-large-uncased.csv\",error_bad_lines=False, delimiter= ',')\n",
    "test_features = pd.read_csv(\"Labeled_TEST_Bert_Large-uncased.csv\",error_bad_lines=False, delimiter= ',')"
   ]
  },
  {
   "cell_type": "code",
   "execution_count": null,
   "metadata": {},
   "outputs": [],
   "source": [
    "x_train = train_features.iloc[:,3:]\n",
    "y_train = train_features[\"label\"]\n",
    "\n",
    "x_test = test_features.iloc[:,3:]\n",
    "y_test = test_features[\"label\"]"
   ]
  },
  {
   "cell_type": "code",
   "execution_count": null,
   "metadata": {},
   "outputs": [],
   "source": [
    "# SGD classifier\n",
    "\n",
    "from sklearn.linear_model import SGDClassifier\n",
    "from sklearn.metrics import confusion_matrix, classification_report, accuracy_score\n",
    "sgd = SGDClassifier(loss='log')\n",
    "sgd.fit(x_train, y_train)\n",
    "\n",
    "y_pred = sgd.predict(x_test)\n",
    "scores = sgd.score(x_test, y_test)\n",
    "y_prob =sgd.predict_proba(x_test)\n",
    "\n",
    "\n",
    "print(confusion_matrix(y_test, y_pred))\n",
    "print(classification_report(y_test, y_pred))\n",
    "print(accuracy_score(y_test,y_pred))"
   ]
  },
  {
   "cell_type": "code",
   "execution_count": null,
   "metadata": {},
   "outputs": [],
   "source": [
    "# SVM classifier\n",
    "\n",
    "from sklearn import svm, datasets\n",
    "from sklearn.model_selection import GridSearchCV\n",
    "from sklearn.svm import SVC\n",
    "from sklearn.metrics import confusion_matrix, classification_report, accuracy_score\n",
    "\n",
    "parameters =  {\"C\": [1,10,100, 1000],\n",
    "                 \"gamma\": [0.001, 0.0001], \"kernel\": [\"linear\"]} \n",
    "\n",
    "model = SVC(probability=True)\n",
    "\n",
    "grid = GridSearchCV(estimator=model, param_grid=parameters)\n",
    "grid.fit(x_train, y_train)\n",
    "y_pred = grid.predict(x_test)\n",
    "y_prob =grid.predict_proba(x_test)\n",
    "\n",
    "\n",
    "print(confusion_matrix(y_test, y_pred))\n",
    "print(classification_report(y_test, y_pred))\n",
    "print(accuracy_score(y_test,y_pred))\n",
    "\n",
    "Predicted_scores = pd.DataFrame({'Negative_Class Scores': y_prob[:,0],'Positive_Class Scores': y_prob[:,1], \"Predicted Labels\": y_pred, \"Actual Labels\":y_test})\n",
    "Predicted_scores.to_csv('Bert_large_SVM.csv', index=False)\n",
    "\n",
    "\n",
    "def TP_scores(y_test,y_pred,y_prob):\n",
    "    Positive_scores=[]\n",
    "    for i in range(len(y_prob)):\n",
    "    #if y_actual[i]==y_hat[i]==\"Pos\"\n",
    "        if y_test[i] == \"Pos\":\n",
    "            Positive_scores.append(y_prob[i,1])\n",
    "        \n",
    "    return Positive_scores\n",
    "SVM_PT_scores = TP_scores(y_test,y_pred,y_pred1)"
   ]
  },
  {
   "cell_type": "code",
   "execution_count": null,
   "metadata": {},
   "outputs": [],
   "source": [
    "# Random Forest classifier\n",
    "\n",
    "\n",
    "from sklearn.ensemble import RandomForestClassifier\n",
    "\n",
    "rf = RandomForestClassifier(n_estimators=100, random_state=50)\n",
    "rf.fit(x_train, y_train)\n",
    "\n",
    "y_pred = rf.predict(x_test)\n",
    "y_prob =rf.predict_proba(x_test)\n",
    "\n",
    "\n",
    "\n",
    "print(confusion_matrix(y_test, y_pred))\n",
    "print(classification_report(y_test, y_pred))\n",
    "print(accuracy_score(y_test,y_pred))"
   ]
  }
 ],
 "metadata": {
  "kernelspec": {
   "display_name": "Python 3",
   "language": "python",
   "name": "python3"
  },
  "language_info": {
   "codemirror_mode": {
    "name": "ipython",
    "version": 3
   },
   "file_extension": ".py",
   "mimetype": "text/x-python",
   "name": "python",
   "nbconvert_exporter": "python",
   "pygments_lexer": "ipython3",
   "version": "3.8.5"
  }
 },
 "nbformat": 4,
 "nbformat_minor": 4
}
